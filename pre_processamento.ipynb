{
 "cells": [
  {
   "cell_type": "markdown",
   "metadata": {},
   "source": [
    "## Tipos de variáveis:\n",
    " - variaveis:\n",
    "    - categoricas -> (strings):\n",
    "\n",
    "       - Nominal:\n",
    "          - Dados não mensuráveis\n",
    "           - Sem ordenação -> cor dos olhos, gênero, id, nome\n",
    "        \n",
    "       - Ordinal:\n",
    "           - Categorização sob uma ordenação\n",
    "           - Ex.: Tamanhos -> P, M, G\n",
    "\n",
    "   - Numéricas:\n",
    "\n",
    "       - Continua:\n",
    "            - numeros reais (2.7, etc)\n",
    "            - Ex.:Temperatura, altura, peso, salario\n",
    "        \n",
    "        - Discreta:\n",
    "           - Conjunto de valores finitos(inteiros/categorias)\n",
    "           - Contagem de alguma coisa\n",
    "\n",
    "        \n"
   ]
  },
  {
   "cell_type": "code",
   "execution_count": null,
   "metadata": {},
   "outputs": [],
   "source": []
  }
 ],
 "metadata": {
  "kernelspec": {
   "display_name": "venv",
   "language": "python",
   "name": "python3"
  },
  "language_info": {
   "name": "python",
   "version": "3.12.3"
  }
 },
 "nbformat": 4,
 "nbformat_minor": 2
}
